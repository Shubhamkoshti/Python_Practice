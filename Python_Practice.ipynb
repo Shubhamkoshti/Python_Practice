{
  "cells": [
    {
      "cell_type": "code",
      "execution_count": null,
      "id": "b4dc17f1",
      "metadata": {
        "id": "b4dc17f1",
        "outputId": "3d0e4fa5-05b4-4e92-c12a-32aea1d0bb5c"
      },
      "outputs": [
        {
          "name": "stdout",
          "output_type": "stream",
          "text": [
            "Hello World\n"
          ]
        }
      ],
      "source": [
        "print(\"Hello World\")       # print is a function (more later)"
      ]
    },
    {
      "cell_type": "code",
      "execution_count": null,
      "id": "77f86521",
      "metadata": {
        "id": "77f86521"
      },
      "outputs": [],
      "source": [
        "a=30        # Identifies a as class<int>\n",
        "\n",
        "b=\"Harry\"   # Identifies name as class<Str>\n",
        "\n",
        "c=71.22     # Identifies b as class<float>"
      ]
    },
    {
      "cell_type": "code",
      "execution_count": null,
      "id": "38e95942",
      "metadata": {
        "id": "38e95942",
        "outputId": "0a931051-f42f-4095-aa2d-97de6a9f8133"
      },
      "outputs": [
        {
          "data": {
            "text/plain": [
              "int"
            ]
          },
          "execution_count": 3,
          "metadata": {},
          "output_type": "execute_result"
        }
      ],
      "source": [
        "a = 31\n",
        "type(a)                      #class<int>"
      ]
    },
    {
      "cell_type": "code",
      "execution_count": null,
      "id": "b684675a",
      "metadata": {
        "id": "b684675a",
        "outputId": "b0d917bc-7837-4eeb-e30b-a8767143a0ac"
      },
      "outputs": [
        {
          "data": {
            "text/plain": [
              "str"
            ]
          },
          "execution_count": 4,
          "metadata": {},
          "output_type": "execute_result"
        }
      ],
      "source": [
        "b = \"31\"\n",
        "type(b)                      #class<str>"
      ]
    },
    {
      "cell_type": "code",
      "execution_count": null,
      "id": "f5ba82b6",
      "metadata": {
        "id": "f5ba82b6",
        "outputId": "b8c8b133-cd0d-4fa1-dc35-423249c8bff3"
      },
      "outputs": [
        {
          "data": {
            "text/plain": [
              "'31'"
            ]
          },
          "execution_count": 5,
          "metadata": {},
          "output_type": "execute_result"
        }
      ],
      "source": [
        "str(31)           # ”31” Integer to string conversion"
      ]
    },
    {
      "cell_type": "code",
      "execution_count": null,
      "id": "5c89a5fc",
      "metadata": {
        "id": "5c89a5fc",
        "outputId": "c7f1094b-9c9c-40ec-df9b-e7f280aa072c"
      },
      "outputs": [
        {
          "data": {
            "text/plain": [
              "32"
            ]
          },
          "execution_count": 6,
          "metadata": {},
          "output_type": "execute_result"
        }
      ],
      "source": [
        "int(\"32\")       # 32 String to int conversion\n"
      ]
    },
    {
      "cell_type": "code",
      "execution_count": null,
      "id": "cd7bcdd2",
      "metadata": {
        "id": "cd7bcdd2",
        "outputId": "98f60840-3ff7-490c-c083-a4e8c17cddda"
      },
      "outputs": [
        {
          "data": {
            "text/plain": [
              "32.0"
            ]
          },
          "execution_count": 23,
          "metadata": {},
          "output_type": "execute_result"
        }
      ],
      "source": [
        "float(32)       #32.0 Integer to float conversion"
      ]
    },
    {
      "cell_type": "code",
      "execution_count": null,
      "id": "1bd2673d",
      "metadata": {
        "id": "1bd2673d",
        "outputId": "c430f66d-91af-4f94-8aa2-15ce1b742984"
      },
      "outputs": [
        {
          "name": "stdout",
          "output_type": "stream",
          "text": [
            "Enter Name:- nastredamas\n",
            "Your name is  nastredamas\n"
          ]
        }
      ],
      "source": [
        "a = input(\"Enter Name:- \")\n",
        "print(\"Your name is \",a)"
      ]
    },
    {
      "cell_type": "code",
      "execution_count": null,
      "id": "c7144bfb",
      "metadata": {
        "id": "c7144bfb",
        "outputId": "f13ce2ae-73d3-48a6-f420-0e708932e8b8"
      },
      "outputs": [
        {
          "name": "stdout",
          "output_type": "stream",
          "text": [
            "Enter 1st number: 4\n",
            "Enter 2nd number: 3\n",
            "Your remainder is:  1\n"
          ]
        }
      ],
      "source": [
        "a = int(input(\"Enter 1st number: \"))\n",
        "b = int(input(\"Enter 2nd number: \"))\n",
        "c = a%b\n",
        "print(\"Your remainder is: \",c)"
      ]
    },
    {
      "cell_type": "code",
      "execution_count": null,
      "id": "6de150cf",
      "metadata": {
        "id": "6de150cf",
        "outputId": "6efc4e76-d90d-46ab-c620-e983516ded27"
      },
      "outputs": [
        {
          "data": {
            "text/plain": [
              "'Kus'"
            ]
          },
          "execution_count": 11,
          "metadata": {},
          "output_type": "execute_result"
        }
      ],
      "source": [
        "a = \"Kushagra\"\n",
        "a[:3]"
      ]
    },
    {
      "cell_type": "code",
      "execution_count": null,
      "id": "625e9607",
      "metadata": {
        "id": "625e9607",
        "outputId": "c6c35065-9172-4d0b-aba3-831b4c8c1aab"
      },
      "outputs": [
        {
          "data": {
            "text/plain": [
              "'sha'"
            ]
          },
          "execution_count": 12,
          "metadata": {},
          "output_type": "execute_result"
        }
      ],
      "source": [
        "a[2:5]"
      ]
    },
    {
      "cell_type": "code",
      "execution_count": null,
      "id": "9c8d31a3",
      "metadata": {
        "id": "9c8d31a3",
        "outputId": "330892b1-a4fb-487b-ecd3-2598cfe39462"
      },
      "outputs": [
        {
          "data": {
            "text/plain": [
              "8"
            ]
          },
          "execution_count": 13,
          "metadata": {},
          "output_type": "execute_result"
        }
      ],
      "source": [
        "len(a)"
      ]
    },
    {
      "cell_type": "code",
      "execution_count": null,
      "id": "a5fe589f",
      "metadata": {
        "id": "a5fe589f",
        "outputId": "5822fbc0-717f-4ff0-9e0c-6ef55bb76c8d"
      },
      "outputs": [
        {
          "data": {
            "text/plain": [
              "False"
            ]
          },
          "execution_count": 16,
          "metadata": {},
          "output_type": "execute_result"
        }
      ],
      "source": [
        "a.endswith(\"ara\")"
      ]
    },
    {
      "cell_type": "code",
      "execution_count": null,
      "id": "90eae21d",
      "metadata": {
        "id": "90eae21d",
        "outputId": "6dc6755f-50ff-41ca-c745-513c56677c60"
      },
      "outputs": [
        {
          "data": {
            "text/plain": [
              "1"
            ]
          },
          "execution_count": 19,
          "metadata": {},
          "output_type": "execute_result"
        }
      ],
      "source": [
        "a.count(\"K\")"
      ]
    },
    {
      "cell_type": "code",
      "execution_count": null,
      "id": "a567d5de",
      "metadata": {
        "id": "a567d5de",
        "outputId": "991e175e-591b-4e61-efe7-1ebf2dc4e924"
      },
      "outputs": [
        {
          "data": {
            "text/plain": [
              "'Kushagra'"
            ]
          },
          "execution_count": 20,
          "metadata": {},
          "output_type": "execute_result"
        }
      ],
      "source": [
        "a.capitalize()"
      ]
    },
    {
      "cell_type": "code",
      "execution_count": null,
      "id": "6535f9c9",
      "metadata": {
        "id": "6535f9c9",
        "outputId": "3144f87c-89bd-48f9-fc59-0e64647f9a4a"
      },
      "outputs": [
        {
          "data": {
            "text/plain": [
              "'Mohan Prasad'"
            ]
          },
          "execution_count": 21,
          "metadata": {},
          "output_type": "execute_result"
        }
      ],
      "source": [
        "a.replace(\"Kushagra\", \"Mohan Prasad\")"
      ]
    },
    {
      "cell_type": "code",
      "execution_count": null,
      "id": "2af231d0",
      "metadata": {
        "id": "2af231d0",
        "outputId": "5e352166-cf25-4c1d-d4ae-4cef0673381d"
      },
      "outputs": [
        {
          "data": {
            "text/plain": [
              "'Kushagra'"
            ]
          },
          "execution_count": 22,
          "metadata": {},
          "output_type": "execute_result"
        }
      ],
      "source": [
        "a"
      ]
    },
    {
      "cell_type": "code",
      "execution_count": null,
      "id": "dba28a1d",
      "metadata": {
        "id": "dba28a1d",
        "outputId": "7dd6468a-9d36-4d39-c23f-767453c14960"
      },
      "outputs": [
        {
          "data": {
            "text/plain": [
              "0"
            ]
          },
          "execution_count": 23,
          "metadata": {},
          "output_type": "execute_result"
        }
      ],
      "source": [
        "L1 = [7, 9, 'harry']\n",
        "\n",
        "L1[0]-7\n",
        "\n"
      ]
    },
    {
      "cell_type": "code",
      "execution_count": null,
      "id": "021f8c17",
      "metadata": {
        "id": "021f8c17",
        "outputId": "9955a6c9-0d92-48b0-aad3-3b9a7e5cf7fe"
      },
      "outputs": [
        {
          "data": {
            "text/plain": [
              "2"
            ]
          },
          "execution_count": 24,
          "metadata": {},
          "output_type": "execute_result"
        }
      ],
      "source": [
        "L1[1]-7"
      ]
    },
    {
      "cell_type": "code",
      "execution_count": null,
      "id": "935a9ade",
      "metadata": {
        "id": "935a9ade"
      },
      "outputs": [],
      "source": [
        "l2 = [1, 8, 7, 2, 21, 15]"
      ]
    },
    {
      "cell_type": "code",
      "execution_count": null,
      "id": "8e139528",
      "metadata": {
        "id": "8e139528",
        "outputId": "e58811f0-468e-4458-aa30-f2e0d47e2fe7"
      },
      "outputs": [
        {
          "data": {
            "text/plain": [
              "[1, 2, 7, 8, 15, 21]"
            ]
          },
          "execution_count": 26,
          "metadata": {},
          "output_type": "execute_result"
        }
      ],
      "source": [
        "l2.sort()\n",
        "l2"
      ]
    },
    {
      "cell_type": "code",
      "execution_count": null,
      "id": "e131d7a9",
      "metadata": {
        "id": "e131d7a9",
        "outputId": "92230a24-8728-44fb-b7f6-ffbeb156a373"
      },
      "outputs": [
        {
          "data": {
            "text/plain": [
              "[21, 15, 8, 7, 2, 1]"
            ]
          },
          "execution_count": 27,
          "metadata": {},
          "output_type": "execute_result"
        }
      ],
      "source": [
        "l2.reverse()\n",
        "l2"
      ]
    },
    {
      "cell_type": "code",
      "execution_count": null,
      "id": "04c5ab6f",
      "metadata": {
        "id": "04c5ab6f",
        "outputId": "3c5ea9ca-cddd-4fe7-f1a4-27f03872cee8"
      },
      "outputs": [
        {
          "data": {
            "text/plain": [
              "[21, 15, 8, 7, 2, 1, 61]"
            ]
          },
          "execution_count": 28,
          "metadata": {},
          "output_type": "execute_result"
        }
      ],
      "source": [
        "l2.append(61)\n",
        "l2"
      ]
    },
    {
      "cell_type": "code",
      "execution_count": null,
      "id": "f97d2b94",
      "metadata": {
        "id": "f97d2b94",
        "outputId": "154c9347-cc2d-40d7-b891-84a5fd063737"
      },
      "outputs": [
        {
          "data": {
            "text/plain": [
              "[21, 15, 8, 7, 2, 1]"
            ]
          },
          "execution_count": 29,
          "metadata": {},
          "output_type": "execute_result"
        }
      ],
      "source": [
        "l2.remove(61)\n",
        "l2"
      ]
    },
    {
      "cell_type": "code",
      "execution_count": null,
      "id": "fbd65456",
      "metadata": {
        "id": "fbd65456",
        "outputId": "cdafea56-de1d-4c3e-c507-60c509326259"
      },
      "outputs": [
        {
          "data": {
            "text/plain": [
              "[21, 15, 7, 2, 1]"
            ]
          },
          "execution_count": 30,
          "metadata": {},
          "output_type": "execute_result"
        }
      ],
      "source": [
        "l2.remove(8)\n",
        "l2"
      ]
    },
    {
      "cell_type": "code",
      "execution_count": null,
      "id": "b677911b",
      "metadata": {
        "id": "b677911b",
        "outputId": "98eeef3c-43f4-46e0-b6ab-06d161748e73"
      },
      "outputs": [
        {
          "data": {
            "text/plain": [
              "[21, 15, 4, 7, 2, 1]"
            ]
          },
          "execution_count": 31,
          "metadata": {},
          "output_type": "execute_result"
        }
      ],
      "source": [
        "l2.insert(2,4)\n",
        "l2"
      ]
    },
    {
      "cell_type": "code",
      "execution_count": null,
      "id": "bbd143ed",
      "metadata": {
        "id": "bbd143ed",
        "outputId": "d51f27e8-5398-4035-833a-c49928cb172b"
      },
      "outputs": [
        {
          "data": {
            "text/plain": [
              "[21, 15, 4, 7, 1]"
            ]
          },
          "execution_count": 32,
          "metadata": {},
          "output_type": "execute_result"
        }
      ],
      "source": [
        "l2.pop(4)\n",
        "l2"
      ]
    },
    {
      "cell_type": "code",
      "execution_count": null,
      "id": "2bfb1399",
      "metadata": {
        "id": "2bfb1399"
      },
      "outputs": [],
      "source": [
        "a = {\"name\": \"Harry\",\"from\":\"India\",\"marks\":[92,98,96]}"
      ]
    },
    {
      "cell_type": "code",
      "execution_count": null,
      "id": "94d6b6c8",
      "metadata": {
        "id": "94d6b6c8",
        "outputId": "aa92b888-e4e8-42ea-9ea8-dc12fdc9efa1"
      },
      "outputs": [
        {
          "data": {
            "text/plain": [
              "{'name': 'Harry', 'from': 'India', 'marks': [92, 98, 96]}"
            ]
          },
          "execution_count": 51,
          "metadata": {},
          "output_type": "execute_result"
        }
      ],
      "source": [
        "a"
      ]
    },
    {
      "cell_type": "code",
      "execution_count": null,
      "id": "ef6d375c",
      "metadata": {
        "id": "ef6d375c",
        "outputId": "7306822e-98aa-4045-e0d1-d82f085b7263"
      },
      "outputs": [
        {
          "data": {
            "text/plain": [
              "dict_items([('name', 'Harry'), ('from', 'India'), ('marks', [92, 98, 96])])"
            ]
          },
          "execution_count": 52,
          "metadata": {},
          "output_type": "execute_result"
        }
      ],
      "source": [
        "a.items()"
      ]
    },
    {
      "cell_type": "code",
      "execution_count": null,
      "id": "4905fe24",
      "metadata": {
        "id": "4905fe24",
        "outputId": "6e8366f9-4929-46ef-bec1-90f27e14ecdc"
      },
      "outputs": [
        {
          "data": {
            "text/plain": [
              "dict_keys(['name', 'from', 'marks'])"
            ]
          },
          "execution_count": 53,
          "metadata": {},
          "output_type": "execute_result"
        }
      ],
      "source": [
        "a.keys()"
      ]
    },
    {
      "cell_type": "code",
      "execution_count": null,
      "id": "f96829d2",
      "metadata": {
        "id": "f96829d2"
      },
      "outputs": [],
      "source": [
        "a.update({\"College\":\"Praxis\"})"
      ]
    },
    {
      "cell_type": "code",
      "execution_count": null,
      "id": "6a5f196b",
      "metadata": {
        "id": "6a5f196b",
        "outputId": "2ed945fa-a685-4be5-c289-387a8ef4671a"
      },
      "outputs": [
        {
          "data": {
            "text/plain": [
              "{'name': 'Harry', 'from': 'India', 'marks': [92, 98, 96], 'College': 'Praxis'}"
            ]
          },
          "execution_count": 56,
          "metadata": {},
          "output_type": "execute_result"
        }
      ],
      "source": [
        "a"
      ]
    },
    {
      "cell_type": "code",
      "execution_count": null,
      "id": "08f16397",
      "metadata": {
        "id": "08f16397",
        "outputId": "c4a146f2-a53c-4425-9dfa-3285c4ce6e98"
      },
      "outputs": [
        {
          "name": "stdout",
          "output_type": "stream",
          "text": [
            "{'name': 'Harry', 'from': 'India', 'marks': [92, 98, 96], 'College': 'Praxis'}\n"
          ]
        }
      ],
      "source": [
        "print(a)"
      ]
    },
    {
      "cell_type": "code",
      "execution_count": null,
      "id": "6c8cfb83",
      "metadata": {
        "id": "6c8cfb83",
        "outputId": "5e4fc5ca-0b03-4451-822a-afc2621246ac"
      },
      "outputs": [
        {
          "data": {
            "text/plain": [
              "'Harry'"
            ]
          },
          "execution_count": 102,
          "metadata": {},
          "output_type": "execute_result"
        }
      ],
      "source": [
        "a.get(\"name\")"
      ]
    },
    {
      "cell_type": "code",
      "execution_count": null,
      "id": "e9a82194",
      "metadata": {
        "id": "e9a82194",
        "outputId": "012ddd56-b737-46cf-efdc-cc79d6aadab7"
      },
      "outputs": [
        {
          "name": "stdout",
          "output_type": "stream",
          "text": [
            "Kushagra\n",
            "Kushagra\n",
            "Kushagra\n",
            "Kushagra\n",
            "Kushagra\n",
            "Kushagra\n",
            "Kushagra\n",
            "Kushagra\n",
            "Kushagra\n",
            "Kushagra\n"
          ]
        }
      ],
      "source": [
        "i=0\n",
        "while i<10:\n",
        "    print(\"Kushagra\")\n",
        "    i=i+1"
      ]
    },
    {
      "cell_type": "code",
      "execution_count": null,
      "id": "fdcc2120",
      "metadata": {
        "id": "fdcc2120",
        "outputId": "7ff0b22a-3821-42b9-fc3d-90588d08cd50"
      },
      "outputs": [
        {
          "name": "stdout",
          "output_type": "stream",
          "text": [
            "1\n",
            "4\n",
            "5\n",
            "6\n"
          ]
        }
      ],
      "source": [
        "x = [1,4,5,6]\n",
        "for i in x:\n",
        "    print(i)"
      ]
    },
    {
      "cell_type": "code",
      "execution_count": null,
      "id": "f1ba514e",
      "metadata": {
        "id": "f1ba514e",
        "outputId": "160fa14d-8a37-4608-cbad-2d7fc5e3b808"
      },
      "outputs": [
        {
          "name": "stdout",
          "output_type": "stream",
          "text": [
            "0\n",
            "1\n",
            "2\n",
            "3\n",
            "4\n",
            "5\n",
            "6\n"
          ]
        }
      ],
      "source": [
        "for i in range(0,7):\n",
        "    print(i)"
      ]
    },
    {
      "cell_type": "code",
      "execution_count": null,
      "id": "3a4f1501",
      "metadata": {
        "id": "3a4f1501",
        "outputId": "c5ddc624-4e1f-46df-8966-3dd1bf4cee8e"
      },
      "outputs": [
        {
          "name": "stdout",
          "output_type": "stream",
          "text": [
            "Enter first number: 6\n",
            "Enter second number: 7\n",
            "Enter third number: 8\n",
            "Enter fourth number: 9\n",
            "9 is greater of all 4 numbers\n"
          ]
        }
      ],
      "source": [
        "q = int(input(\"Enter first number: \"))\n",
        "w = int(input(\"Enter second number: \"))\n",
        "e = int(input(\"Enter third number: \"))\n",
        "r = int(input(\"Enter fourth number: \"))\n",
        "if (q>w and q>e and q>r):\n",
        "    print(q, \"is greater of all 4 numbers\")\n",
        "elif (w>q and w>e and w>r):\n",
        "    print(w, \"is greater of all 4 numbers\")\n",
        "elif (e>q and e>w and e>r):\n",
        "    print(e, \"is greater of all 4 numbers\")\n",
        "else:\n",
        "    print(r, \"is greater of all 4 numbers\")"
      ]
    },
    {
      "cell_type": "code",
      "execution_count": null,
      "id": "883dba02",
      "metadata": {
        "id": "883dba02",
        "outputId": "0d72f84a-edbc-4c19-8749-ccdecb72a0ab"
      },
      "outputs": [
        {
          "name": "stdout",
          "output_type": "stream",
          "text": [
            "Enter Physics number: 87\n",
            "Enter Maths number: 90\n",
            "Enter Chemistry number: 89\n",
            "Pass\n"
          ]
        }
      ],
      "source": [
        "a = int(input(\"Enter Physics number: \"))\n",
        "b = int(input(\"Enter Maths number: \"))\n",
        "c = int(input(\"Enter Chemistry number: \"))\n",
        "total = a+b+c\n",
        "avg = total/3\n",
        "if (a>33 and b>33 and c>33 and avg>=40):\n",
        "    print(\"Pass\")\n",
        "else:\n",
        "    print(\"Fail\")"
      ]
    },
    {
      "cell_type": "code",
      "execution_count": null,
      "id": "383d2260",
      "metadata": {
        "id": "383d2260",
        "outputId": "a933c7c9-934a-4793-e7ee-1f9f32ac8b84"
      },
      "outputs": [
        {
          "name": "stdout",
          "output_type": "stream",
          "text": [
            "1\n",
            "2\n",
            "3\n",
            "4\n",
            "5\n",
            "6\n",
            "7\n",
            "8\n",
            "9\n",
            "10\n"
          ]
        }
      ],
      "source": [
        "i=0\n",
        "while (i<10):\n",
        "    i=i+1\n",
        "    print(i)"
      ]
    },
    {
      "cell_type": "markdown",
      "id": "e6b5ebce",
      "metadata": {
        "id": "e6b5ebce"
      },
      "source": [
        "## Mathematical tables"
      ]
    },
    {
      "cell_type": "code",
      "execution_count": null,
      "id": "e90654ae",
      "metadata": {
        "id": "e90654ae",
        "outputId": "2c650eba-c83a-40d2-b181-80a19d52d69f"
      },
      "outputs": [
        {
          "name": "stdout",
          "output_type": "stream",
          "text": [
            "Enter the table number: 4\n",
            "4 x 1 = 4\n",
            "4 x 2 = 8\n",
            "4 x 3 = 12\n",
            "4 x 4 = 16\n",
            "4 x 5 = 20\n",
            "4 x 6 = 24\n",
            "4 x 7 = 28\n",
            "4 x 8 = 32\n",
            "4 x 9 = 36\n",
            "4 x 10 = 40\n"
          ]
        }
      ],
      "source": [
        "a = int(input(\"Enter the table number: \"))\n",
        "i=0\n",
        "while (i<10):\n",
        "    i=i+1\n",
        "    c = i*a\n",
        "    print(a, \"x\", i, \"=\", c)"
      ]
    },
    {
      "cell_type": "code",
      "execution_count": null,
      "id": "f08e0c94",
      "metadata": {
        "id": "f08e0c94",
        "outputId": "07ee89d0-77e4-440e-d7ba-2184d98da2bd"
      },
      "outputs": [
        {
          "name": "stdout",
          "output_type": "stream",
          "text": [
            "a\n",
            "b\n",
            "c\n",
            "1\n",
            "2\n",
            "3\n"
          ]
        }
      ],
      "source": [
        "l1 = [\"a\", \"b\", \"c\", 1, 2, 3]\n",
        "for x in l1:\n",
        "    print(x)"
      ]
    },
    {
      "cell_type": "code",
      "execution_count": null,
      "id": "8f1dd9af",
      "metadata": {
        "id": "8f1dd9af",
        "outputId": "3e7e8663-ed95-4af6-bc07-82c863d5db5a"
      },
      "outputs": [
        {
          "name": "stdout",
          "output_type": "stream",
          "text": [
            "range(2, 5)\n"
          ]
        }
      ],
      "source": [
        "print(range(2,5))"
      ]
    },
    {
      "cell_type": "code",
      "execution_count": null,
      "id": "31b2c1cd",
      "metadata": {
        "id": "31b2c1cd",
        "outputId": "4e1ea40f-0550-47f8-c676-71455133bbd3"
      },
      "outputs": [
        {
          "name": "stdout",
          "output_type": "stream",
          "text": [
            "0\n",
            "4\n",
            "8\n",
            "12\n",
            "16\n",
            "Done\n"
          ]
        }
      ],
      "source": [
        "for i in range(0,20,4):\n",
        "    print(i)\n",
        "else:\n",
        "    print(\"Done\")"
      ]
    },
    {
      "cell_type": "code",
      "execution_count": null,
      "id": "5e44e955",
      "metadata": {
        "id": "5e44e955",
        "outputId": "6292a2ed-28eb-4607-eb87-6e62b14c357e"
      },
      "outputs": [
        {
          "name": "stdout",
          "output_type": "stream",
          "text": [
            "0\n",
            "2\n",
            "4\n",
            "6\n",
            "8\n",
            "10\n",
            "12\n",
            "14\n",
            "16\n"
          ]
        }
      ],
      "source": [
        "for i in range(0,20,2):\n",
        "    print(i)\n",
        "    if (i==16):\n",
        "        break"
      ]
    },
    {
      "cell_type": "code",
      "execution_count": null,
      "id": "a97fa6d5",
      "metadata": {
        "id": "a97fa6d5",
        "outputId": "c760e5a7-e788-491b-d94d-e61c8b2b29e7"
      },
      "outputs": [
        {
          "name": "stdout",
          "output_type": "stream",
          "text": [
            "5\n",
            "7\n",
            "11\n",
            "13\n",
            "15\n",
            "17\n",
            "19\n"
          ]
        }
      ],
      "source": [
        "for f in range(5,20,2):\n",
        "    if (f==9):\n",
        "        continue\n",
        "    print(f)"
      ]
    },
    {
      "cell_type": "markdown",
      "id": "1e098dfa",
      "metadata": {
        "id": "1e098dfa"
      },
      "source": [
        "## Mathematical tables"
      ]
    },
    {
      "cell_type": "code",
      "execution_count": null,
      "id": "518d8179",
      "metadata": {
        "scrolled": true,
        "id": "518d8179",
        "outputId": "3ea85ba6-0b93-489e-c75a-c4777c8bc33a"
      },
      "outputs": [
        {
          "name": "stdout",
          "output_type": "stream",
          "text": [
            "Enter number: 8\n",
            "8 * 1 = 8\n",
            "8 * 2 = 16\n",
            "8 * 3 = 24\n",
            "8 * 4 = 32\n",
            "8 * 5 = 40\n",
            "8 * 6 = 48\n",
            "8 * 7 = 56\n",
            "8 * 8 = 64\n",
            "8 * 9 = 72\n",
            "8 * 10 = 80\n"
          ]
        }
      ],
      "source": [
        "a = int(input(\"Enter number: \"))\n",
        "for i in range(1,11):\n",
        "    print(a, \"*\" ,i, \"=\", i*a)"
      ]
    },
    {
      "cell_type": "code",
      "execution_count": null,
      "id": "6b3a516d",
      "metadata": {
        "id": "6b3a516d",
        "outputId": "391f2d28-e6b5-415f-fa3d-872ce1ee3a91"
      },
      "outputs": [
        {
          "name": "stdout",
          "output_type": "stream",
          "text": [
            "Hello Daksh\n"
          ]
        }
      ],
      "source": [
        "l1 = [\"Harry\", \"Sohail\",\"Kushagra\", \"Sohan\", \"Samrat\",\"Daksh\"]\n",
        "for item in l1:\n",
        "    if item.startswith(\"D\"):\n",
        "        print(\"Hello\", item)"
      ]
    },
    {
      "cell_type": "markdown",
      "id": "2c15a28e",
      "metadata": {
        "id": "2c15a28e"
      },
      "source": [
        "## Prime number"
      ]
    },
    {
      "cell_type": "code",
      "execution_count": null,
      "id": "ea5a2ad7",
      "metadata": {
        "id": "ea5a2ad7",
        "outputId": "26ca784b-da19-461f-d296-cfe66331e2b7"
      },
      "outputs": [
        {
          "name": "stdout",
          "output_type": "stream",
          "text": [
            "Enter a number: 9\n",
            "Not a Prime Number. It's a composite number\n"
          ]
        }
      ],
      "source": [
        "n = int(input(\"Enter a number: \"))\n",
        "if n>1:\n",
        "    for i in range(2,n):\n",
        "        if n%i==0:\n",
        "            print(\"Not a Prime Number. It's a composite number\")\n",
        "            break\n",
        "    else:\n",
        "        print(\"Prime Number\")\n",
        "else:\n",
        "    print(\"-ve number is not a Prime Number\")"
      ]
    },
    {
      "cell_type": "markdown",
      "id": "1b13a1e1",
      "metadata": {
        "id": "1b13a1e1"
      },
      "source": [
        "## Even number"
      ]
    },
    {
      "cell_type": "code",
      "execution_count": null,
      "id": "6876e89a",
      "metadata": {
        "id": "6876e89a",
        "outputId": "0f7975b6-3dc2-4320-eb54-bb69790e2d33"
      },
      "outputs": [
        {
          "name": "stdout",
          "output_type": "stream",
          "text": [
            "Enter a number: 6\n",
            "2\n",
            "4\n",
            "6\n"
          ]
        }
      ],
      "source": [
        "n = int(input(\"Enter a number: \"))\n",
        "i = 0\n",
        "while i<n:\n",
        "    i=i+2\n",
        "    print(i)"
      ]
    },
    {
      "cell_type": "markdown",
      "id": "637c689d",
      "metadata": {
        "id": "637c689d"
      },
      "source": [
        "## Factorial"
      ]
    },
    {
      "cell_type": "code",
      "execution_count": null,
      "id": "64338c3b",
      "metadata": {
        "id": "64338c3b",
        "outputId": "8a5824fb-79a0-4f65-89c3-4aab1f362a4b"
      },
      "outputs": [
        {
          "name": "stdout",
          "output_type": "stream",
          "text": [
            "Enter a number: 5\n",
            "Factorial is:  120\n"
          ]
        }
      ],
      "source": [
        "a = int(input(\"Enter a number: \"))\n",
        "fac = 1\n",
        "for i in range(a, 1, -1):\n",
        "    fac = fac*i\n",
        "print(\"Factorial is: \", fac)"
      ]
    },
    {
      "cell_type": "markdown",
      "id": "e6da9b99",
      "metadata": {
        "id": "e6da9b99"
      },
      "source": [
        "## Recursive Factorial"
      ]
    },
    {
      "cell_type": "code",
      "execution_count": null,
      "id": "d3e99a8c",
      "metadata": {
        "id": "d3e99a8c",
        "outputId": "601eed98-6dbd-44bb-a7dd-8a43de0eedcf"
      },
      "outputs": [
        {
          "name": "stdout",
          "output_type": "stream",
          "text": [
            "Enter a number: -5\n",
            "Negative number do not have factorial.\n",
            "Factorial of -5 is  None\n"
          ]
        }
      ],
      "source": [
        "def factorial_recursive(n):\n",
        "    if n==1 or n==0:\n",
        "        return 1\n",
        "    elif n<0:\n",
        "        print(\"Negative number do not have factorial.\")\n",
        "    elif n==float:\n",
        "        print(\"Float numbers do not have factorial.\")\n",
        "    else:\n",
        "        return n * factorial_recursive(n-1)\n",
        "n = int(input(\"Enter a number: \"))\n",
        "b = factorial_recursive(n)\n",
        "print(\"Factorial of %d is \" %n, b)"
      ]
    },
    {
      "cell_type": "markdown",
      "id": "c0d40a48",
      "metadata": {
        "id": "c0d40a48"
      },
      "source": [
        "## Fibonacci Series"
      ]
    },
    {
      "cell_type": "code",
      "execution_count": null,
      "id": "fa910be5",
      "metadata": {
        "id": "fa910be5",
        "outputId": "11e9fbe8-b45a-48de-9484-1ab0dc926d28"
      },
      "outputs": [
        {
          "name": "stdout",
          "output_type": "stream",
          "text": [
            "Enter a number: 100\n",
            "0\n",
            "1\n",
            "1\n",
            "2\n",
            "3\n",
            "5\n",
            "8\n",
            "13\n",
            "21\n",
            "34\n",
            "55\n",
            "89\n"
          ]
        }
      ],
      "source": [
        "a = int(input(\"Enter a number: \"))\n",
        "x=0\n",
        "y=1\n",
        "z=0\n",
        "while(z<=a):\n",
        "    print(z)\n",
        "    x=y\n",
        "    y=z\n",
        "    z=x+y"
      ]
    },
    {
      "cell_type": "markdown",
      "id": "74d1e7ce",
      "metadata": {
        "id": "74d1e7ce"
      },
      "source": [
        "## Recursive Fibonacci Series"
      ]
    },
    {
      "cell_type": "code",
      "execution_count": null,
      "id": "1e44df36",
      "metadata": {
        "id": "1e44df36",
        "outputId": "5c2cd27a-349c-486a-d2ab-932afff6caf1"
      },
      "outputs": [
        {
          "name": "stdout",
          "output_type": "stream",
          "text": [
            "Enter the number : 10\n",
            "55\n"
          ]
        }
      ],
      "source": [
        "# Generation of the Fibonacci Series using Recursion\n",
        "def fibonacci (n):\n",
        "    if n == 0:\n",
        "        return 0\n",
        "    elif n == 1:\n",
        "        return 1\n",
        "    else:\n",
        "        return fibonacci(n - 1) + fibonacci(n - 2)\n",
        "\n",
        "b = int(input(\"Enter the number : \"))\n",
        "a = fibonacci(b)\n",
        "print(a)"
      ]
    },
    {
      "cell_type": "markdown",
      "id": "690946fb",
      "metadata": {
        "id": "690946fb"
      },
      "source": [
        "## Palindrome number"
      ]
    },
    {
      "cell_type": "code",
      "execution_count": null,
      "id": "9d205280",
      "metadata": {
        "id": "9d205280",
        "outputId": "47f5fb2d-583d-4025-cfc6-b373ded78485"
      },
      "outputs": [
        {
          "name": "stdout",
          "output_type": "stream",
          "text": [
            "Enter a number:151\n",
            "The number is palindrome!\n"
          ]
        }
      ],
      "source": [
        "num=int(input(\"Enter a number:\"))\n",
        "temp=num\n",
        "rev=0\n",
        "while(num>0):\n",
        "    dig=num%10\n",
        "    rev=rev*10+dig\n",
        "    num=num//10\n",
        "if(temp==rev):\n",
        "    print(\"The number is palindrome!\")\n",
        "else:\n",
        "    print(\"Not a palindrome!\")"
      ]
    },
    {
      "cell_type": "code",
      "execution_count": null,
      "id": "8ddc55cf",
      "metadata": {
        "id": "8ddc55cf",
        "outputId": "b45fccd2-31d5-42f6-989c-22ed3489b3cb"
      },
      "outputs": [
        {
          "name": "stdout",
          "output_type": "stream",
          "text": [
            "Enter a string:12321\n",
            "The string is a palindrome\n"
          ]
        }
      ],
      "source": [
        "string=input((\"Enter a string:\"))\n",
        "if(string==string[::-1]):\n",
        "      print(\"The string is a palindrome\")\n",
        "else:\n",
        "      print(\"Not a palindrome\")"
      ]
    },
    {
      "cell_type": "markdown",
      "id": "60d2e57a",
      "metadata": {
        "id": "60d2e57a"
      },
      "source": [
        "## Amstrong Number"
      ]
    },
    {
      "cell_type": "markdown",
      "id": "4b74d79d",
      "metadata": {
        "id": "4b74d79d"
      },
      "source": [
        "## Reverse of a number"
      ]
    },
    {
      "cell_type": "markdown",
      "id": "9e49ac89",
      "metadata": {
        "id": "9e49ac89"
      },
      "source": [
        "## Volume of a cube"
      ]
    },
    {
      "cell_type": "code",
      "execution_count": null,
      "id": "6ffb6a6a",
      "metadata": {
        "id": "6ffb6a6a",
        "outputId": "88a566eb-fb3a-4add-bc92-100535489122"
      },
      "outputs": [
        {
          "name": "stdout",
          "output_type": "stream",
          "text": [
            "Please enter radius to find the volume of a cube: 2\n",
            "33.43\n"
          ]
        }
      ],
      "source": [
        "import math\n",
        "def cube(radius):\n",
        "    vol = (1.33* math.pi * radius ** 3)\n",
        "    return vol\n",
        "r = int(input(\"Please enter radius to find the volume of a cube: \"))\n",
        "a = round(cube(r),2)\n",
        "#x = round(a,2)\n",
        "print(x)"
      ]
    },
    {
      "cell_type": "markdown",
      "id": "376344d1",
      "metadata": {
        "id": "376344d1"
      },
      "source": [
        "## Cuberoot"
      ]
    },
    {
      "cell_type": "code",
      "execution_count": null,
      "id": "cc49325b",
      "metadata": {
        "id": "cc49325b"
      },
      "outputs": [],
      "source": [
        "def cuberoot(x):\n",
        "    if x < 0:\n",
        "        x = abs(x)\n",
        "        cube_root = x**(1/3)*(-1)\n",
        "    else:\n",
        "        cube_root = x**(1/3)\n",
        "        return cube_root\n",
        "\n",
        "a = int(input(\"Enter a value to find cube root: \"))\n",
        "print(cuberoot(a))\n",
        "print(round(cuberoot(-a)))"
      ]
    },
    {
      "cell_type": "code",
      "execution_count": null,
      "id": "98726158",
      "metadata": {
        "id": "98726158",
        "outputId": "e57971ff-b4e7-4e3b-83d9-41494750a7e8"
      },
      "outputs": [
        {
          "name": "stdout",
          "output_type": "stream",
          "text": [
            "Enter an integer: -8\n",
            "Cube root of -8 is -2\n"
          ]
        }
      ],
      "source": [
        "# Find the cube root of a perfect cube\n",
        "# Using for loop\n",
        "\n",
        "x = int(input(\"Enter an integer: \"))\n",
        "for ans in range(0, abs(x) + 1):\n",
        "    if (ans**3 >= abs(x)):\n",
        "        break\n",
        "if (ans**3 != abs(x)):\n",
        "    print(x,\"is not a perfect cube\")\n",
        "else:\n",
        "    if(x < 0):\n",
        "        ans = -ans\n",
        "    print(\"Cube root of\", x, \"is\", ans)"
      ]
    },
    {
      "cell_type": "code",
      "execution_count": null,
      "id": "58efcd7f",
      "metadata": {
        "id": "58efcd7f"
      },
      "outputs": [],
      "source": []
    },
    {
      "cell_type": "markdown",
      "source": [
        "##Median Of Number"
      ],
      "metadata": {
        "id": "Ac_h1aDOvTUy"
      },
      "id": "Ac_h1aDOvTUy"
    },
    {
      "cell_type": "code",
      "source": [
        "def find_median(numbers):\n",
        "  sorted_num = sorted(numbers)\n",
        "  n = len(numbers)\n",
        "\n",
        "  if n % 2 == 0:\n",
        "    num1 = sorted_num[n//2-1]\n",
        "    num2 = sorted_num[n//2]\n",
        "    median = (num1+num2) / 2\n",
        "\n",
        "  else:\n",
        "    median = sorted_num[n//2]\n",
        "\n",
        "  return median"
      ],
      "metadata": {
        "id": "b4YBKtpWvbWb"
      },
      "id": "b4YBKtpWvbWb",
      "execution_count": 1,
      "outputs": []
    },
    {
      "cell_type": "code",
      "source": [
        "numbers_list = [12, 7, 9, 3, 5]\n",
        "result = find_median(numbers_list)\n",
        "print(\"Median = \", result)"
      ],
      "metadata": {
        "id": "k8pnKGAwwgGf",
        "outputId": "58ab3706-d388-4629-c63c-c070f565734c",
        "colab": {
          "base_uri": "https://localhost:8080/"
        }
      },
      "id": "k8pnKGAwwgGf",
      "execution_count": 4,
      "outputs": [
        {
          "output_type": "stream",
          "name": "stdout",
          "text": [
            "Median =  7\n"
          ]
        }
      ]
    },
    {
      "cell_type": "code",
      "source": [],
      "metadata": {
        "id": "gDkn5YHQwnrs"
      },
      "id": "gDkn5YHQwnrs",
      "execution_count": 4,
      "outputs": []
    },
    {
      "cell_type": "code",
      "source": [],
      "metadata": {
        "id": "RrxS21YKwpw6"
      },
      "id": "RrxS21YKwpw6",
      "execution_count": null,
      "outputs": []
    }
  ],
  "metadata": {
    "kernelspec": {
      "display_name": "Python 3 (ipykernel)",
      "language": "python",
      "name": "python3"
    },
    "language_info": {
      "codemirror_mode": {
        "name": "ipython",
        "version": 3
      },
      "file_extension": ".py",
      "mimetype": "text/x-python",
      "name": "python",
      "nbconvert_exporter": "python",
      "pygments_lexer": "ipython3",
      "version": "3.11.3"
    },
    "colab": {
      "provenance": []
    }
  },
  "nbformat": 4,
  "nbformat_minor": 5
}