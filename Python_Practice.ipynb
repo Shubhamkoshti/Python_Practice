{
 "cells": [
  {
   "cell_type": "code",
   "execution_count": 1,
   "id": "b4dc17f1",
   "metadata": {},
   "outputs": [
    {
     "name": "stdout",
     "output_type": "stream",
     "text": [
      "Hello World\n"
     ]
    }
   ],
   "source": [
    "print(\"Hello World\")       # print is a function (more later)"
   ]
  },
  {
   "cell_type": "code",
   "execution_count": 2,
   "id": "77f86521",
   "metadata": {},
   "outputs": [],
   "source": [
    "a=30        # Identifies a as class<int>\n",
    "\n",
    "b=\"Harry\"   # Identifies name as class<Str>\n",
    "\n",
    "c=71.22     # Identifies b as class<float>"
   ]
  },
  {
   "cell_type": "code",
   "execution_count": 3,
   "id": "38e95942",
   "metadata": {},
   "outputs": [
    {
     "data": {
      "text/plain": [
       "int"
      ]
     },
     "execution_count": 3,
     "metadata": {},
     "output_type": "execute_result"
    }
   ],
   "source": [
    "a = 31\n",
    "type(a)                      #class<int>"
   ]
  },
  {
   "cell_type": "code",
   "execution_count": 4,
   "id": "b684675a",
   "metadata": {},
   "outputs": [
    {
     "data": {
      "text/plain": [
       "str"
      ]
     },
     "execution_count": 4,
     "metadata": {},
     "output_type": "execute_result"
    }
   ],
   "source": [
    "b = \"31\"\n",
    "type(b)                      #class<str>"
   ]
  },
  {
   "cell_type": "code",
   "execution_count": 5,
   "id": "f5ba82b6",
   "metadata": {},
   "outputs": [
    {
     "data": {
      "text/plain": [
       "'31'"
      ]
     },
     "execution_count": 5,
     "metadata": {},
     "output_type": "execute_result"
    }
   ],
   "source": [
    "str(31)           # ”31” Integer to string conversion"
   ]
  },
  {
   "cell_type": "code",
   "execution_count": 6,
   "id": "5c89a5fc",
   "metadata": {},
   "outputs": [
    {
     "data": {
      "text/plain": [
       "32"
      ]
     },
     "execution_count": 6,
     "metadata": {},
     "output_type": "execute_result"
    }
   ],
   "source": [
    "int(\"32\")       # 32 String to int conversion\n"
   ]
  },
  {
   "cell_type": "code",
   "execution_count": 23,
   "id": "cd7bcdd2",
   "metadata": {},
   "outputs": [
    {
     "data": {
      "text/plain": [
       "32.0"
      ]
     },
     "execution_count": 23,
     "metadata": {},
     "output_type": "execute_result"
    }
   ],
   "source": [
    "float(32)       #32.0 Integer to float conversion"
   ]
  },
  {
   "cell_type": "code",
   "execution_count": 9,
   "id": "1bd2673d",
   "metadata": {},
   "outputs": [
    {
     "name": "stdout",
     "output_type": "stream",
     "text": [
      "Enter Name:- nastredamas\n",
      "Your name is  nastredamas\n"
     ]
    }
   ],
   "source": [
    "a = input(\"Enter Name:- \")\n",
    "print(\"Your name is \",a)"
   ]
  },
  {
   "cell_type": "code",
   "execution_count": 10,
   "id": "c7144bfb",
   "metadata": {},
   "outputs": [
    {
     "name": "stdout",
     "output_type": "stream",
     "text": [
      "Enter 1st number: 4\n",
      "Enter 2nd number: 3\n",
      "Your remainder is:  1\n"
     ]
    }
   ],
   "source": [
    "a = int(input(\"Enter 1st number: \"))\n",
    "b = int(input(\"Enter 2nd number: \"))\n",
    "c = a%b\n",
    "print(\"Your remainder is: \",c)"
   ]
  },
  {
   "cell_type": "code",
   "execution_count": 11,
   "id": "6de150cf",
   "metadata": {},
   "outputs": [
    {
     "data": {
      "text/plain": [
       "'Kus'"
      ]
     },
     "execution_count": 11,
     "metadata": {},
     "output_type": "execute_result"
    }
   ],
   "source": [
    "a = \"Kushagra\"\n",
    "a[:3]"
   ]
  },
  {
   "cell_type": "code",
   "execution_count": 12,
   "id": "625e9607",
   "metadata": {},
   "outputs": [
    {
     "data": {
      "text/plain": [
       "'sha'"
      ]
     },
     "execution_count": 12,
     "metadata": {},
     "output_type": "execute_result"
    }
   ],
   "source": [
    "a[2:5]"
   ]
  },
  {
   "cell_type": "code",
   "execution_count": 13,
   "id": "9c8d31a3",
   "metadata": {},
   "outputs": [
    {
     "data": {
      "text/plain": [
       "8"
      ]
     },
     "execution_count": 13,
     "metadata": {},
     "output_type": "execute_result"
    }
   ],
   "source": [
    "len(a)"
   ]
  },
  {
   "cell_type": "code",
   "execution_count": 16,
   "id": "a5fe589f",
   "metadata": {},
   "outputs": [
    {
     "data": {
      "text/plain": [
       "False"
      ]
     },
     "execution_count": 16,
     "metadata": {},
     "output_type": "execute_result"
    }
   ],
   "source": [
    "a.endswith(\"ara\")"
   ]
  },
  {
   "cell_type": "code",
   "execution_count": 19,
   "id": "90eae21d",
   "metadata": {},
   "outputs": [
    {
     "data": {
      "text/plain": [
       "1"
      ]
     },
     "execution_count": 19,
     "metadata": {},
     "output_type": "execute_result"
    }
   ],
   "source": [
    "a.count(\"K\")"
   ]
  },
  {
   "cell_type": "code",
   "execution_count": 20,
   "id": "a567d5de",
   "metadata": {},
   "outputs": [
    {
     "data": {
      "text/plain": [
       "'Kushagra'"
      ]
     },
     "execution_count": 20,
     "metadata": {},
     "output_type": "execute_result"
    }
   ],
   "source": [
    "a.capitalize()"
   ]
  },
  {
   "cell_type": "code",
   "execution_count": 21,
   "id": "6535f9c9",
   "metadata": {},
   "outputs": [
    {
     "data": {
      "text/plain": [
       "'Mohan Prasad'"
      ]
     },
     "execution_count": 21,
     "metadata": {},
     "output_type": "execute_result"
    }
   ],
   "source": [
    "a.replace(\"Kushagra\", \"Mohan Prasad\")"
   ]
  },
  {
   "cell_type": "code",
   "execution_count": 22,
   "id": "2af231d0",
   "metadata": {},
   "outputs": [
    {
     "data": {
      "text/plain": [
       "'Kushagra'"
      ]
     },
     "execution_count": 22,
     "metadata": {},
     "output_type": "execute_result"
    }
   ],
   "source": [
    "a"
   ]
  },
  {
   "cell_type": "code",
   "execution_count": 23,
   "id": "dba28a1d",
   "metadata": {},
   "outputs": [
    {
     "data": {
      "text/plain": [
       "0"
      ]
     },
     "execution_count": 23,
     "metadata": {},
     "output_type": "execute_result"
    }
   ],
   "source": [
    "L1 = [7, 9, 'harry']\n",
    "\n",
    "L1[0]-7\n",
    "\n"
   ]
  },
  {
   "cell_type": "code",
   "execution_count": 24,
   "id": "021f8c17",
   "metadata": {},
   "outputs": [
    {
     "data": {
      "text/plain": [
       "2"
      ]
     },
     "execution_count": 24,
     "metadata": {},
     "output_type": "execute_result"
    }
   ],
   "source": [
    "L1[1]-7"
   ]
  },
  {
   "cell_type": "code",
   "execution_count": 25,
   "id": "935a9ade",
   "metadata": {},
   "outputs": [],
   "source": [
    "l2 = [1, 8, 7, 2, 21, 15]"
   ]
  },
  {
   "cell_type": "code",
   "execution_count": 26,
   "id": "8e139528",
   "metadata": {},
   "outputs": [
    {
     "data": {
      "text/plain": [
       "[1, 2, 7, 8, 15, 21]"
      ]
     },
     "execution_count": 26,
     "metadata": {},
     "output_type": "execute_result"
    }
   ],
   "source": [
    "l2.sort()\n",
    "l2"
   ]
  },
  {
   "cell_type": "code",
   "execution_count": 27,
   "id": "e131d7a9",
   "metadata": {},
   "outputs": [
    {
     "data": {
      "text/plain": [
       "[21, 15, 8, 7, 2, 1]"
      ]
     },
     "execution_count": 27,
     "metadata": {},
     "output_type": "execute_result"
    }
   ],
   "source": [
    "l2.reverse()\n",
    "l2"
   ]
  },
  {
   "cell_type": "code",
   "execution_count": 28,
   "id": "04c5ab6f",
   "metadata": {},
   "outputs": [
    {
     "data": {
      "text/plain": [
       "[21, 15, 8, 7, 2, 1, 61]"
      ]
     },
     "execution_count": 28,
     "metadata": {},
     "output_type": "execute_result"
    }
   ],
   "source": [
    "l2.append(61)\n",
    "l2"
   ]
  },
  {
   "cell_type": "code",
   "execution_count": 29,
   "id": "f97d2b94",
   "metadata": {},
   "outputs": [
    {
     "data": {
      "text/plain": [
       "[21, 15, 8, 7, 2, 1]"
      ]
     },
     "execution_count": 29,
     "metadata": {},
     "output_type": "execute_result"
    }
   ],
   "source": [
    "l2.remove(61)\n",
    "l2"
   ]
  },
  {
   "cell_type": "code",
   "execution_count": 30,
   "id": "fbd65456",
   "metadata": {},
   "outputs": [
    {
     "data": {
      "text/plain": [
       "[21, 15, 7, 2, 1]"
      ]
     },
     "execution_count": 30,
     "metadata": {},
     "output_type": "execute_result"
    }
   ],
   "source": [
    "l2.remove(8)\n",
    "l2"
   ]
  },
  {
   "cell_type": "code",
   "execution_count": 31,
   "id": "b677911b",
   "metadata": {},
   "outputs": [
    {
     "data": {
      "text/plain": [
       "[21, 15, 4, 7, 2, 1]"
      ]
     },
     "execution_count": 31,
     "metadata": {},
     "output_type": "execute_result"
    }
   ],
   "source": [
    "l2.insert(2,4)\n",
    "l2"
   ]
  },
  {
   "cell_type": "code",
   "execution_count": 32,
   "id": "bbd143ed",
   "metadata": {},
   "outputs": [
    {
     "data": {
      "text/plain": [
       "[21, 15, 4, 7, 1]"
      ]
     },
     "execution_count": 32,
     "metadata": {},
     "output_type": "execute_result"
    }
   ],
   "source": [
    "l2.pop(4)\n",
    "l2"
   ]
  },
  {
   "cell_type": "code",
   "execution_count": 50,
   "id": "2bfb1399",
   "metadata": {},
   "outputs": [],
   "source": [
    "a = {\"name\": \"Harry\",\"from\":\"India\",\"marks\":[92,98,96]}"
   ]
  },
  {
   "cell_type": "code",
   "execution_count": 51,
   "id": "94d6b6c8",
   "metadata": {},
   "outputs": [
    {
     "data": {
      "text/plain": [
       "{'name': 'Harry', 'from': 'India', 'marks': [92, 98, 96]}"
      ]
     },
     "execution_count": 51,
     "metadata": {},
     "output_type": "execute_result"
    }
   ],
   "source": [
    "a"
   ]
  },
  {
   "cell_type": "code",
   "execution_count": 52,
   "id": "ef6d375c",
   "metadata": {},
   "outputs": [
    {
     "data": {
      "text/plain": [
       "dict_items([('name', 'Harry'), ('from', 'India'), ('marks', [92, 98, 96])])"
      ]
     },
     "execution_count": 52,
     "metadata": {},
     "output_type": "execute_result"
    }
   ],
   "source": [
    "a.items()"
   ]
  },
  {
   "cell_type": "code",
   "execution_count": 53,
   "id": "4905fe24",
   "metadata": {},
   "outputs": [
    {
     "data": {
      "text/plain": [
       "dict_keys(['name', 'from', 'marks'])"
      ]
     },
     "execution_count": 53,
     "metadata": {},
     "output_type": "execute_result"
    }
   ],
   "source": [
    "a.keys()"
   ]
  },
  {
   "cell_type": "code",
   "execution_count": 55,
   "id": "f96829d2",
   "metadata": {},
   "outputs": [],
   "source": [
    "a.update({\"College\":\"Praxis\"})"
   ]
  },
  {
   "cell_type": "code",
   "execution_count": 56,
   "id": "6a5f196b",
   "metadata": {},
   "outputs": [
    {
     "data": {
      "text/plain": [
       "{'name': 'Harry', 'from': 'India', 'marks': [92, 98, 96], 'College': 'Praxis'}"
      ]
     },
     "execution_count": 56,
     "metadata": {},
     "output_type": "execute_result"
    }
   ],
   "source": [
    "a"
   ]
  },
  {
   "cell_type": "code",
   "execution_count": 57,
   "id": "08f16397",
   "metadata": {},
   "outputs": [
    {
     "name": "stdout",
     "output_type": "stream",
     "text": [
      "{'name': 'Harry', 'from': 'India', 'marks': [92, 98, 96], 'College': 'Praxis'}\n"
     ]
    }
   ],
   "source": [
    "print(a)"
   ]
  },
  {
   "cell_type": "code",
   "execution_count": 102,
   "id": "6c8cfb83",
   "metadata": {},
   "outputs": [
    {
     "data": {
      "text/plain": [
       "'Harry'"
      ]
     },
     "execution_count": 102,
     "metadata": {},
     "output_type": "execute_result"
    }
   ],
   "source": [
    "a.get(\"name\")"
   ]
  },
  {
   "cell_type": "code",
   "execution_count": 58,
   "id": "e9a82194",
   "metadata": {},
   "outputs": [
    {
     "name": "stdout",
     "output_type": "stream",
     "text": [
      "Kushagra\n",
      "Kushagra\n",
      "Kushagra\n",
      "Kushagra\n",
      "Kushagra\n",
      "Kushagra\n",
      "Kushagra\n",
      "Kushagra\n",
      "Kushagra\n",
      "Kushagra\n"
     ]
    }
   ],
   "source": [
    "i=0\n",
    "while i<10:\n",
    "    print(\"Kushagra\")\n",
    "    i=i+1"
   ]
  },
  {
   "cell_type": "code",
   "execution_count": 63,
   "id": "fdcc2120",
   "metadata": {},
   "outputs": [
    {
     "name": "stdout",
     "output_type": "stream",
     "text": [
      "1\n",
      "4\n",
      "5\n",
      "6\n"
     ]
    }
   ],
   "source": [
    "x = [1,4,5,6]\n",
    "for i in x:\n",
    "    print(i)"
   ]
  },
  {
   "cell_type": "code",
   "execution_count": 107,
   "id": "f1ba514e",
   "metadata": {},
   "outputs": [
    {
     "name": "stdout",
     "output_type": "stream",
     "text": [
      "0\n",
      "1\n",
      "2\n",
      "3\n",
      "4\n",
      "5\n",
      "6\n"
     ]
    }
   ],
   "source": [
    "for i in range(0,7):\n",
    "    print(i)"
   ]
  },
  {
   "cell_type": "code",
   "execution_count": 64,
   "id": "3a4f1501",
   "metadata": {},
   "outputs": [
    {
     "name": "stdout",
     "output_type": "stream",
     "text": [
      "Enter first number: 6\n",
      "Enter second number: 7\n",
      "Enter third number: 8\n",
      "Enter fourth number: 9\n",
      "9 is greater of all 4 numbers\n"
     ]
    }
   ],
   "source": [
    "q = int(input(\"Enter first number: \"))\n",
    "w = int(input(\"Enter second number: \"))\n",
    "e = int(input(\"Enter third number: \"))\n",
    "r = int(input(\"Enter fourth number: \"))\n",
    "if (q>w and q>e and q>r):\n",
    "    print(q, \"is greater of all 4 numbers\")\n",
    "elif (w>q and w>e and w>r):\n",
    "    print(w, \"is greater of all 4 numbers\")\n",
    "elif (e>q and e>w and e>r):\n",
    "    print(e, \"is greater of all 4 numbers\")\n",
    "else:\n",
    "    print(r, \"is greater of all 4 numbers\")"
   ]
  },
  {
   "cell_type": "code",
   "execution_count": 66,
   "id": "883dba02",
   "metadata": {},
   "outputs": [
    {
     "name": "stdout",
     "output_type": "stream",
     "text": [
      "Enter Physics number: 87\n",
      "Enter Maths number: 90\n",
      "Enter Chemistry number: 89\n",
      "Pass\n"
     ]
    }
   ],
   "source": [
    "a = int(input(\"Enter Physics number: \"))\n",
    "b = int(input(\"Enter Maths number: \"))\n",
    "c = int(input(\"Enter Chemistry number: \"))\n",
    "total = a+b+c\n",
    "avg = total/3\n",
    "if (a>33 and b>33 and c>33 and avg>=40):\n",
    "    print(\"Pass\")\n",
    "else:\n",
    "    print(\"Fail\")"
   ]
  },
  {
   "cell_type": "code",
   "execution_count": 129,
   "id": "383d2260",
   "metadata": {},
   "outputs": [
    {
     "name": "stdout",
     "output_type": "stream",
     "text": [
      "1\n",
      "2\n",
      "3\n",
      "4\n",
      "5\n",
      "6\n",
      "7\n",
      "8\n",
      "9\n",
      "10\n"
     ]
    }
   ],
   "source": [
    "i=0\n",
    "while (i<10):\n",
    "    i=i+1\n",
    "    print(i)"
   ]
  },
  {
   "cell_type": "markdown",
   "id": "e6b5ebce",
   "metadata": {},
   "source": [
    "## Mathematical tables"
   ]
  },
  {
   "cell_type": "code",
   "execution_count": 132,
   "id": "e90654ae",
   "metadata": {},
   "outputs": [
    {
     "name": "stdout",
     "output_type": "stream",
     "text": [
      "Enter the table number: 4\n",
      "4 x 1 = 4\n",
      "4 x 2 = 8\n",
      "4 x 3 = 12\n",
      "4 x 4 = 16\n",
      "4 x 5 = 20\n",
      "4 x 6 = 24\n",
      "4 x 7 = 28\n",
      "4 x 8 = 32\n",
      "4 x 9 = 36\n",
      "4 x 10 = 40\n"
     ]
    }
   ],
   "source": [
    "a = int(input(\"Enter the table number: \"))\n",
    "i=0\n",
    "while (i<10):\n",
    "    i=i+1\n",
    "    c = i*a\n",
    "    print(a, \"x\", i, \"=\", c)"
   ]
  },
  {
   "cell_type": "code",
   "execution_count": 140,
   "id": "f08e0c94",
   "metadata": {},
   "outputs": [
    {
     "name": "stdout",
     "output_type": "stream",
     "text": [
      "a\n",
      "b\n",
      "c\n",
      "1\n",
      "2\n",
      "3\n"
     ]
    }
   ],
   "source": [
    "l1 = [\"a\", \"b\", \"c\", 1, 2, 3]\n",
    "for x in l1:\n",
    "    print(x)"
   ]
  },
  {
   "cell_type": "code",
   "execution_count": 67,
   "id": "8f1dd9af",
   "metadata": {},
   "outputs": [
    {
     "name": "stdout",
     "output_type": "stream",
     "text": [
      "range(2, 5)\n"
     ]
    }
   ],
   "source": [
    "print(range(2,5))"
   ]
  },
  {
   "cell_type": "code",
   "execution_count": 68,
   "id": "31b2c1cd",
   "metadata": {},
   "outputs": [
    {
     "name": "stdout",
     "output_type": "stream",
     "text": [
      "0\n",
      "4\n",
      "8\n",
      "12\n",
      "16\n",
      "Done\n"
     ]
    }
   ],
   "source": [
    "for i in range(0,20,4):\n",
    "    print(i)\n",
    "else:\n",
    "    print(\"Done\")"
   ]
  },
  {
   "cell_type": "code",
   "execution_count": 69,
   "id": "5e44e955",
   "metadata": {},
   "outputs": [
    {
     "name": "stdout",
     "output_type": "stream",
     "text": [
      "0\n",
      "2\n",
      "4\n",
      "6\n",
      "8\n",
      "10\n",
      "12\n",
      "14\n",
      "16\n"
     ]
    }
   ],
   "source": [
    "for i in range(0,20,2):\n",
    "    print(i)\n",
    "    if (i==16):\n",
    "        break"
   ]
  },
  {
   "cell_type": "code",
   "execution_count": 70,
   "id": "a97fa6d5",
   "metadata": {},
   "outputs": [
    {
     "name": "stdout",
     "output_type": "stream",
     "text": [
      "5\n",
      "7\n",
      "11\n",
      "13\n",
      "15\n",
      "17\n",
      "19\n"
     ]
    }
   ],
   "source": [
    "for f in range(5,20,2):\n",
    "    if (f==9):\n",
    "        continue\n",
    "    print(f)"
   ]
  },
  {
   "cell_type": "markdown",
   "id": "1e098dfa",
   "metadata": {},
   "source": [
    "## Mathematical tables"
   ]
  },
  {
   "cell_type": "code",
   "execution_count": 1,
   "id": "518d8179",
   "metadata": {
    "scrolled": true
   },
   "outputs": [
    {
     "name": "stdout",
     "output_type": "stream",
     "text": [
      "Enter number: 8\n",
      "8 * 1 = 8\n",
      "8 * 2 = 16\n",
      "8 * 3 = 24\n",
      "8 * 4 = 32\n",
      "8 * 5 = 40\n",
      "8 * 6 = 48\n",
      "8 * 7 = 56\n",
      "8 * 8 = 64\n",
      "8 * 9 = 72\n",
      "8 * 10 = 80\n"
     ]
    }
   ],
   "source": [
    "a = int(input(\"Enter number: \"))\n",
    "for i in range(1,11):\n",
    "    print(a, \"*\" ,i, \"=\", i*a)"
   ]
  },
  {
   "cell_type": "code",
   "execution_count": 2,
   "id": "6b3a516d",
   "metadata": {},
   "outputs": [
    {
     "name": "stdout",
     "output_type": "stream",
     "text": [
      "Hello Daksh\n"
     ]
    }
   ],
   "source": [
    "l1 = [\"Harry\", \"Sohail\",\"Kushagra\", \"Sohan\", \"Samrat\",\"Daksh\"]\n",
    "for item in l1:\n",
    "    if item.startswith(\"D\"):\n",
    "        print(\"Hello\", item)"
   ]
  },
  {
   "cell_type": "markdown",
   "id": "2c15a28e",
   "metadata": {},
   "source": [
    "## Prime number"
   ]
  },
  {
   "cell_type": "code",
   "execution_count": 79,
   "id": "ea5a2ad7",
   "metadata": {},
   "outputs": [
    {
     "name": "stdout",
     "output_type": "stream",
     "text": [
      "Enter a number: 9\n",
      "Not a Prime Number. It's a composite number\n"
     ]
    }
   ],
   "source": [
    "n = int(input(\"Enter a number: \"))\n",
    "if n>1:\n",
    "    for i in range(2,n):\n",
    "        if n%i==0:\n",
    "            print(\"Not a Prime Number. It's a composite number\")\n",
    "            break\n",
    "    else:\n",
    "        print(\"Prime Number\")\n",
    "else:\n",
    "    print(\"-ve number is not a Prime Number\")"
   ]
  },
  {
   "cell_type": "markdown",
   "id": "1b13a1e1",
   "metadata": {},
   "source": [
    "## Even number"
   ]
  },
  {
   "cell_type": "code",
   "execution_count": 80,
   "id": "6876e89a",
   "metadata": {},
   "outputs": [
    {
     "name": "stdout",
     "output_type": "stream",
     "text": [
      "Enter a number: 6\n",
      "2\n",
      "4\n",
      "6\n"
     ]
    }
   ],
   "source": [
    "n = int(input(\"Enter a number: \"))\n",
    "i = 0\n",
    "while i<n:\n",
    "    i=i+2\n",
    "    print(i)"
   ]
  },
  {
   "cell_type": "markdown",
   "id": "637c689d",
   "metadata": {},
   "source": [
    "## Factorial"
   ]
  },
  {
   "cell_type": "code",
   "execution_count": 10,
   "id": "64338c3b",
   "metadata": {},
   "outputs": [
    {
     "name": "stdout",
     "output_type": "stream",
     "text": [
      "Enter a number: 5\n",
      "Factorial is:  120\n"
     ]
    }
   ],
   "source": [
    "a = int(input(\"Enter a number: \"))\n",
    "fac = 1\n",
    "for i in range(a, 1, -1):\n",
    "    fac = fac*i\n",
    "print(\"Factorial is: \", fac)"
   ]
  },
  {
   "cell_type": "markdown",
   "id": "e6da9b99",
   "metadata": {},
   "source": [
    "## Recursive Factorial"
   ]
  },
  {
   "cell_type": "code",
   "execution_count": 50,
   "id": "d3e99a8c",
   "metadata": {},
   "outputs": [
    {
     "name": "stdout",
     "output_type": "stream",
     "text": [
      "Enter a number: -5\n",
      "Negative number do not have factorial.\n",
      "Factorial of -5 is  None\n"
     ]
    }
   ],
   "source": [
    "def factorial_recursive(n):\n",
    "    if n==1 or n==0:\n",
    "        return 1\n",
    "    elif n<0:\n",
    "        print(\"Negative number do not have factorial.\")\n",
    "    elif n==float:\n",
    "        print(\"Float numbers do not have factorial.\")\n",
    "    else:\n",
    "        return n * factorial_recursive(n-1)\n",
    "n = int(input(\"Enter a number: \"))\n",
    "b = factorial_recursive(n)\n",
    "print(\"Factorial of %d is \" %n, b)"
   ]
  },
  {
   "cell_type": "markdown",
   "id": "c0d40a48",
   "metadata": {},
   "source": [
    "## Fibonacci Series"
   ]
  },
  {
   "cell_type": "code",
   "execution_count": 17,
   "id": "fa910be5",
   "metadata": {},
   "outputs": [
    {
     "name": "stdout",
     "output_type": "stream",
     "text": [
      "Enter a number: 100\n",
      "0\n",
      "1\n",
      "1\n",
      "2\n",
      "3\n",
      "5\n",
      "8\n",
      "13\n",
      "21\n",
      "34\n",
      "55\n",
      "89\n"
     ]
    }
   ],
   "source": [
    "a = int(input(\"Enter a number: \"))\n",
    "x=0\n",
    "y=1\n",
    "z=0\n",
    "while(z<=a):\n",
    "    print(z)\n",
    "    x=y\n",
    "    y=z\n",
    "    z=x+y"
   ]
  },
  {
   "cell_type": "markdown",
   "id": "74d1e7ce",
   "metadata": {},
   "source": [
    "## Recursive Fibonacci Series"
   ]
  },
  {
   "cell_type": "code",
   "execution_count": 12,
   "id": "1e44df36",
   "metadata": {},
   "outputs": [
    {
     "name": "stdout",
     "output_type": "stream",
     "text": [
      "Enter the number : 10\n",
      "55\n"
     ]
    }
   ],
   "source": [
    "# Generation of the Fibonacci Series using Recursion\n",
    "def fibonacci (n):\n",
    "    if n == 0:\n",
    "        return 0\n",
    "    elif n == 1:\n",
    "        return 1\n",
    "    else:\n",
    "        return fibonacci(n - 1) + fibonacci(n - 2)\n",
    "\n",
    "b = int(input(\"Enter the number : \"))    \n",
    "a = fibonacci(b)\n",
    "print(a)"
   ]
  },
  {
   "cell_type": "markdown",
   "id": "690946fb",
   "metadata": {},
   "source": [
    "## Palindrome number"
   ]
  },
  {
   "cell_type": "code",
   "execution_count": 4,
   "id": "9d205280",
   "metadata": {},
   "outputs": [
    {
     "name": "stdout",
     "output_type": "stream",
     "text": [
      "Enter a number:151\n",
      "The number is palindrome!\n"
     ]
    }
   ],
   "source": [
    "num=int(input(\"Enter a number:\"))\n",
    "temp=num\n",
    "rev=0\n",
    "while(num>0):\n",
    "    dig=num%10\n",
    "    rev=rev*10+dig\n",
    "    num=num//10\n",
    "if(temp==rev):\n",
    "    print(\"The number is palindrome!\")\n",
    "else:\n",
    "    print(\"Not a palindrome!\")"
   ]
  },
  {
   "cell_type": "code",
   "execution_count": 44,
   "id": "8ddc55cf",
   "metadata": {},
   "outputs": [
    {
     "name": "stdout",
     "output_type": "stream",
     "text": [
      "Enter a string:12321\n",
      "The string is a palindrome\n"
     ]
    }
   ],
   "source": [
    "string=input((\"Enter a string:\"))\n",
    "if(string==string[::-1]):\n",
    "      print(\"The string is a palindrome\")\n",
    "else:\n",
    "      print(\"Not a palindrome\")"
   ]
  },
  {
   "cell_type": "markdown",
   "id": "60d2e57a",
   "metadata": {},
   "source": [
    "## Amstrong Number"
   ]
  },
  {
   "cell_type": "markdown",
   "id": "4b74d79d",
   "metadata": {},
   "source": [
    "## Reverse of a number"
   ]
  },
  {
   "cell_type": "markdown",
   "id": "9e49ac89",
   "metadata": {},
   "source": [
    "## Volume of a cube"
   ]
  },
  {
   "cell_type": "code",
   "execution_count": 12,
   "id": "6ffb6a6a",
   "metadata": {},
   "outputs": [
    {
     "name": "stdout",
     "output_type": "stream",
     "text": [
      "Please enter radius to find the volume of a cube: 2\n",
      "33.43\n"
     ]
    }
   ],
   "source": [
    "import math\n",
    "def cube(radius):\n",
    "    vol = (1.33* math.pi * radius ** 3)\n",
    "    return vol\n",
    "r = int(input(\"Please enter radius to find the volume of a cube: \"))\n",
    "a = round(cube(r),2)\n",
    "#x = round(a,2)\n",
    "print(x)"
   ]
  },
  {
   "cell_type": "markdown",
   "id": "376344d1",
   "metadata": {},
   "source": [
    "## Cuberoot"
   ]
  },
  {
   "cell_type": "code",
   "execution_count": null,
   "id": "cc49325b",
   "metadata": {},
   "outputs": [],
   "source": [
    "def cuberoot(x):\n",
    "    if x < 0:\n",
    "        x = abs(x)\n",
    "        cube_root = x**(1/3)*(-1)\n",
    "    else:\n",
    "        cube_root = x**(1/3)\n",
    "        return cube_root\n",
    "\n",
    "a = int(input(\"Enter a value to find cube root: \"))\n",
    "print(cuberoot(a))\n",
    "print(round(cuberoot(-a)))"
   ]
  },
  {
   "cell_type": "code",
   "execution_count": 54,
   "id": "98726158",
   "metadata": {},
   "outputs": [
    {
     "name": "stdout",
     "output_type": "stream",
     "text": [
      "Enter an integer: -8\n",
      "Cube root of -8 is -2\n"
     ]
    }
   ],
   "source": [
    "# Find the cube root of a perfect cube\n",
    "# Using for loop\n",
    "\n",
    "x = int(input(\"Enter an integer: \"))\n",
    "for ans in range(0, abs(x) + 1):\n",
    "    if (ans**3 >= abs(x)):\n",
    "        break\n",
    "if (ans**3 != abs(x)):\n",
    "    print(x,\"is not a perfect cube\")\n",
    "else:\n",
    "    if(x < 0):\n",
    "        ans = -ans\n",
    "    print(\"Cube root of\", x, \"is\", ans)"
   ]
  },
  {
   "cell_type": "code",
   "execution_count": null,
   "id": "58efcd7f",
   "metadata": {},
   "outputs": [],
   "source": []
  }
 ],
 "metadata": {
  "kernelspec": {
   "display_name": "Python 3 (ipykernel)",
   "language": "python",
   "name": "python3"
  },
  "language_info": {
   "codemirror_mode": {
    "name": "ipython",
    "version": 3
   },
   "file_extension": ".py",
   "mimetype": "text/x-python",
   "name": "python",
   "nbconvert_exporter": "python",
   "pygments_lexer": "ipython3",
   "version": "3.11.3"
  }
 },
 "nbformat": 4,
 "nbformat_minor": 5
}
